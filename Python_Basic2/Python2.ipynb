{
 "cells": [
  {
   "cell_type": "markdown",
   "id": "6dfa2941",
   "metadata": {},
   "source": [
    "# Python using Panda and Numpy for Big Data\n",
    "\n",
    "Instala las librerias Pandas, Numpy para trabajar con Datos Masivos."
   ]
  }
 ],
 "metadata": {
  "language_info": {
   "name": "python"
  }
 },
 "nbformat": 4,
 "nbformat_minor": 5
}
