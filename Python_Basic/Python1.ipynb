{
 "cells": [
  {
   "cell_type": "markdown",
   "id": "9a75212b",
   "metadata": {},
   "source": [
    "# Python for Big Data\n",
    "\n",
    "1. Variable\n",
    "2. String\n",
    "3. Function print\n",
    "4. Booleanos y Condicionales\n",
    "5. Loops\n",
    "6. Functions\n",
    "7. Manejo de Excepciones"
   ]
  },
  {
   "cell_type": "markdown",
   "id": "6589601b",
   "metadata": {},
   "source": [
    "# 1. Variables"
   ]
  },
  {
   "cell_type": "code",
   "execution_count": 2,
   "id": "cef4938a",
   "metadata": {},
   "outputs": [],
   "source": [
    "#Variable no definida\n",
    "#resultado"
   ]
  },
  {
   "cell_type": "code",
   "execution_count": 3,
   "id": "5268793c",
   "metadata": {},
   "outputs": [],
   "source": [
    "# Declarando variables\n",
    "monto_deuda=1000\n",
    "moneda=\"Soles\""
   ]
  },
  {
   "cell_type": "code",
   "execution_count": 4,
   "id": "3aeb7979",
   "metadata": {},
   "outputs": [
    {
     "data": {
      "text/plain": [
       "1000"
      ]
     },
     "execution_count": 4,
     "metadata": {},
     "output_type": "execute_result"
    }
   ],
   "source": [
    "# Mostrar variable\n",
    "monto_deuda"
   ]
  },
  {
   "cell_type": "code",
   "execution_count": 5,
   "id": "4ca6a8ca",
   "metadata": {},
   "outputs": [
    {
     "data": {
      "text/plain": [
       "'Soles'"
      ]
     },
     "execution_count": 5,
     "metadata": {},
     "output_type": "execute_result"
    }
   ],
   "source": [
    "moneda"
   ]
  },
  {
   "cell_type": "code",
   "execution_count": 6,
   "id": "caad7ff5",
   "metadata": {},
   "outputs": [
    {
     "ename": "KeyboardInterrupt",
     "evalue": "Interrupted by user",
     "output_type": "error",
     "traceback": [
      "\u001b[31m---------------------------------------------------------------------------\u001b[39m",
      "\u001b[31mKeyboardInterrupt\u001b[39m                         Traceback (most recent call last)",
      "\u001b[36mCell\u001b[39m\u001b[36m \u001b[39m\u001b[32mIn[6]\u001b[39m\u001b[32m, line 2\u001b[39m\n\u001b[32m      1\u001b[39m \u001b[38;5;66;03m#Interactuar con el usuario\u001b[39;00m\n\u001b[32m----> \u001b[39m\u001b[32m2\u001b[39m monto_interes =\u001b[38;5;28mint\u001b[39m(\u001b[38;5;28;43minput\u001b[39;49m\u001b[43m(\u001b[49m\u001b[33;43m\"\u001b[39;49m\u001b[33;43mIngrese el interes: \u001b[39;49m\u001b[33;43m\"\u001b[39;49m\u001b[43m)\u001b[49m)\n",
      "\u001b[36mFile \u001b[39m\u001b[32mc:\\Users\\EVE\\Documents\\TopicosBI_A\\myenv\\Lib\\site-packages\\ipykernel\\kernelbase.py:1275\u001b[39m, in \u001b[36mKernel.raw_input\u001b[39m\u001b[34m(self, prompt)\u001b[39m\n\u001b[32m   1273\u001b[39m     msg = \u001b[33m\"\u001b[39m\u001b[33mraw_input was called, but this frontend does not support input requests.\u001b[39m\u001b[33m\"\u001b[39m\n\u001b[32m   1274\u001b[39m     \u001b[38;5;28;01mraise\u001b[39;00m StdinNotImplementedError(msg)\n\u001b[32m-> \u001b[39m\u001b[32m1275\u001b[39m \u001b[38;5;28;01mreturn\u001b[39;00m \u001b[38;5;28;43mself\u001b[39;49m\u001b[43m.\u001b[49m\u001b[43m_input_request\u001b[49m\u001b[43m(\u001b[49m\n\u001b[32m   1276\u001b[39m \u001b[43m    \u001b[49m\u001b[38;5;28;43mstr\u001b[39;49m\u001b[43m(\u001b[49m\u001b[43mprompt\u001b[49m\u001b[43m)\u001b[49m\u001b[43m,\u001b[49m\n\u001b[32m   1277\u001b[39m \u001b[43m    \u001b[49m\u001b[38;5;28;43mself\u001b[39;49m\u001b[43m.\u001b[49m\u001b[43m_parent_ident\u001b[49m\u001b[43m[\u001b[49m\u001b[33;43m\"\u001b[39;49m\u001b[33;43mshell\u001b[39;49m\u001b[33;43m\"\u001b[39;49m\u001b[43m]\u001b[49m\u001b[43m,\u001b[49m\n\u001b[32m   1278\u001b[39m \u001b[43m    \u001b[49m\u001b[38;5;28;43mself\u001b[39;49m\u001b[43m.\u001b[49m\u001b[43mget_parent\u001b[49m\u001b[43m(\u001b[49m\u001b[33;43m\"\u001b[39;49m\u001b[33;43mshell\u001b[39;49m\u001b[33;43m\"\u001b[39;49m\u001b[43m)\u001b[49m\u001b[43m,\u001b[49m\n\u001b[32m   1279\u001b[39m \u001b[43m    \u001b[49m\u001b[43mpassword\u001b[49m\u001b[43m=\u001b[49m\u001b[38;5;28;43;01mFalse\u001b[39;49;00m\u001b[43m,\u001b[49m\n\u001b[32m   1280\u001b[39m \u001b[43m\u001b[49m\u001b[43m)\u001b[49m\n",
      "\u001b[36mFile \u001b[39m\u001b[32mc:\\Users\\EVE\\Documents\\TopicosBI_A\\myenv\\Lib\\site-packages\\ipykernel\\kernelbase.py:1320\u001b[39m, in \u001b[36mKernel._input_request\u001b[39m\u001b[34m(self, prompt, ident, parent, password)\u001b[39m\n\u001b[32m   1317\u001b[39m \u001b[38;5;28;01mexcept\u001b[39;00m \u001b[38;5;167;01mKeyboardInterrupt\u001b[39;00m:\n\u001b[32m   1318\u001b[39m     \u001b[38;5;66;03m# re-raise KeyboardInterrupt, to truncate traceback\u001b[39;00m\n\u001b[32m   1319\u001b[39m     msg = \u001b[33m\"\u001b[39m\u001b[33mInterrupted by user\u001b[39m\u001b[33m\"\u001b[39m\n\u001b[32m-> \u001b[39m\u001b[32m1320\u001b[39m     \u001b[38;5;28;01mraise\u001b[39;00m \u001b[38;5;167;01mKeyboardInterrupt\u001b[39;00m(msg) \u001b[38;5;28;01mfrom\u001b[39;00m\u001b[38;5;250m \u001b[39m\u001b[38;5;28;01mNone\u001b[39;00m\n\u001b[32m   1321\u001b[39m \u001b[38;5;28;01mexcept\u001b[39;00m \u001b[38;5;167;01mException\u001b[39;00m:\n\u001b[32m   1322\u001b[39m     \u001b[38;5;28mself\u001b[39m.log.warning(\u001b[33m\"\u001b[39m\u001b[33mInvalid Message:\u001b[39m\u001b[33m\"\u001b[39m, exc_info=\u001b[38;5;28;01mTrue\u001b[39;00m)\n",
      "\u001b[31mKeyboardInterrupt\u001b[39m: Interrupted by user"
     ]
    }
   ],
   "source": [
    "#Interactuar con el usuario\n",
    "monto_interes =int(input(\"Ingrese el interes: \"))"
   ]
  },
  {
   "cell_type": "code",
   "execution_count": null,
   "id": "530401ac",
   "metadata": {},
   "outputs": [
    {
     "data": {
      "text/plain": [
       "4000"
      ]
     },
     "execution_count": 4,
     "metadata": {},
     "output_type": "execute_result"
    }
   ],
   "source": [
    "#Operando con variables\n",
    "resultado=monto_deuda*4\n",
    "resultado"
   ]
  },
  {
   "cell_type": "code",
   "execution_count": null,
   "id": "d17383a3",
   "metadata": {},
   "outputs": [
    {
     "data": {
      "text/plain": [
       "int"
      ]
     },
     "execution_count": 5,
     "metadata": {},
     "output_type": "execute_result"
    }
   ],
   "source": [
    "#Tipo de variable\n",
    "type(monto_deuda)"
   ]
  },
  {
   "cell_type": "code",
   "execution_count": null,
   "id": "a4e11aba",
   "metadata": {},
   "outputs": [
    {
     "data": {
      "text/plain": [
       "str"
      ]
     },
     "execution_count": 6,
     "metadata": {},
     "output_type": "execute_result"
    }
   ],
   "source": [
    "type(moneda)"
   ]
  },
  {
   "cell_type": "code",
   "execution_count": null,
   "id": "c23d66e3",
   "metadata": {},
   "outputs": [
    {
     "data": {
      "text/plain": [
       "16000"
      ]
     },
     "execution_count": 7,
     "metadata": {},
     "output_type": "execute_result"
    }
   ],
   "source": [
    "# Operar variables \n",
    "4*resultado"
   ]
  },
  {
   "cell_type": "code",
   "execution_count": null,
   "id": "bae4d101",
   "metadata": {},
   "outputs": [
    {
     "data": {
      "text/plain": [
       "'1000'"
      ]
     },
     "execution_count": 8,
     "metadata": {},
     "output_type": "execute_result"
    }
   ],
   "source": [
    "# Cambiando el tipo de variable\n",
    "str_monto_deuda = str(monto_deuda)\n",
    "str_monto_deuda"
   ]
  },
  {
   "cell_type": "code",
   "execution_count": null,
   "id": "d5b0d14a",
   "metadata": {},
   "outputs": [
    {
     "data": {
      "text/plain": [
       "1000"
      ]
     },
     "execution_count": 9,
     "metadata": {},
     "output_type": "execute_result"
    }
   ],
   "source": [
    "int_monto_deuda=int(str_monto_deuda)\n",
    "int_monto_deuda"
   ]
  },
  {
   "cell_type": "markdown",
   "id": "4112dc52",
   "metadata": {},
   "source": [
    "# 2. String"
   ]
  },
  {
   "cell_type": "code",
   "execution_count": null,
   "id": "467fa13e",
   "metadata": {},
   "outputs": [
    {
     "data": {
      "text/plain": [
       "'Hola'"
      ]
     },
     "execution_count": 1,
     "metadata": {},
     "output_type": "execute_result"
    }
   ],
   "source": [
    "# Concatenar \n",
    "'Ho' + 'la'"
   ]
  },
  {
   "cell_type": "code",
   "execution_count": null,
   "id": "62bfb507",
   "metadata": {},
   "outputs": [],
   "source": [
    "# Comillas Simples o Dobles\n",
    "text_1 = \"Mi primer mensaje\"\n",
    "text_2 = 'Mi segundo mensaje'"
   ]
  },
  {
   "cell_type": "code",
   "execution_count": null,
   "id": "627bb4de",
   "metadata": {},
   "outputs": [
    {
     "data": {
      "text/plain": [
       "'Mi primer mensaje'"
      ]
     },
     "execution_count": 4,
     "metadata": {},
     "output_type": "execute_result"
    }
   ],
   "source": [
    "text_1"
   ]
  },
  {
   "cell_type": "code",
   "execution_count": null,
   "id": "e1794dae",
   "metadata": {},
   "outputs": [
    {
     "data": {
      "text/plain": [
       "'Mi segundo mensaje'"
      ]
     },
     "execution_count": 5,
     "metadata": {},
     "output_type": "execute_result"
    }
   ],
   "source": [
    "text_2"
   ]
  },
  {
   "cell_type": "code",
   "execution_count": null,
   "id": "243d7ca7",
   "metadata": {},
   "outputs": [],
   "source": [
    "# Comillas triples\n",
    "consulta = \"\"\"\n",
    "SELECT * FROM USERS\n",
    "WHERE ID=8\n",
    "GROUP BY ADMIN\n",
    "\"\"\""
   ]
  },
  {
   "cell_type": "code",
   "execution_count": null,
   "id": "cd62cb6d",
   "metadata": {},
   "outputs": [
    {
     "data": {
      "text/plain": [
       "'\\nSELECT * FROM USERS\\nWHERE ID=8\\nGROUP BY ADMIN\\n'"
      ]
     },
     "execution_count": 7,
     "metadata": {},
     "output_type": "execute_result"
    }
   ],
   "source": [
    "consulta"
   ]
  },
  {
   "cell_type": "code",
   "execution_count": null,
   "id": "a0210120",
   "metadata": {},
   "outputs": [],
   "source": [
    "# Operaciones con String\n",
    "cadena_1 = 'Hola mundo'\n",
    "cadena_2 = '5'\n",
    "cadena_3 = 'cinco' "
   ]
  },
  {
   "cell_type": "code",
   "execution_count": null,
   "id": "b08f3b86",
   "metadata": {},
   "outputs": [
    {
     "data": {
      "text/plain": [
       "'Hola mundo'"
      ]
     },
     "execution_count": 9,
     "metadata": {},
     "output_type": "execute_result"
    }
   ],
   "source": [
    "cadena_1.capitalize()"
   ]
  },
  {
   "cell_type": "code",
   "execution_count": null,
   "id": "1f42260d",
   "metadata": {},
   "outputs": [
    {
     "data": {
      "text/plain": [
       "'CINCO'"
      ]
     },
     "execution_count": 10,
     "metadata": {},
     "output_type": "execute_result"
    }
   ],
   "source": [
    "cadena_3.upper()"
   ]
  },
  {
   "cell_type": "code",
   "execution_count": null,
   "id": "e4c086ad",
   "metadata": {},
   "outputs": [
    {
     "data": {
      "text/plain": [
       "'cinco'"
      ]
     },
     "execution_count": 11,
     "metadata": {},
     "output_type": "execute_result"
    }
   ],
   "source": [
    "cadena_3.lower()"
   ]
  },
  {
   "cell_type": "code",
   "execution_count": null,
   "id": "f89fe184",
   "metadata": {},
   "outputs": [
    {
     "data": {
      "text/plain": [
       "'Hola Mundo'"
      ]
     },
     "execution_count": 12,
     "metadata": {},
     "output_type": "execute_result"
    }
   ],
   "source": [
    "cadena_1.title()"
   ]
  },
  {
   "cell_type": "code",
   "execution_count": null,
   "id": "add15d99",
   "metadata": {},
   "outputs": [
    {
     "data": {
      "text/plain": [
       "['Hola', 'Mundo']"
      ]
     },
     "execution_count": 14,
     "metadata": {},
     "output_type": "execute_result"
    }
   ],
   "source": [
    "#Dividir un string\n",
    "cadena_1.split()"
   ]
  },
  {
   "cell_type": "code",
   "execution_count": null,
   "id": "ff340f8d",
   "metadata": {},
   "outputs": [
    {
     "ename": "TypeError",
     "evalue": "count expected at least 1 argument, got 0",
     "output_type": "error",
     "traceback": [
      "\u001b[31m---------------------------------------------------------------------------\u001b[39m",
      "\u001b[31mTypeError\u001b[39m                                 Traceback (most recent call last)",
      "\u001b[36mCell\u001b[39m\u001b[36m \u001b[39m\u001b[32mIn[27]\u001b[39m\u001b[32m, line 1\u001b[39m\n\u001b[32m----> \u001b[39m\u001b[32m1\u001b[39m \u001b[43mcadena_3\u001b[49m\u001b[43m.\u001b[49m\u001b[43mcount\u001b[49m\u001b[43m(\u001b[49m\u001b[43m)\u001b[49m\n",
      "\u001b[31mTypeError\u001b[39m: count expected at least 1 argument, got 0"
     ]
    }
   ],
   "source": [
    "cadena_1.count()"
   ]
  },
  {
   "cell_type": "code",
   "execution_count": null,
   "id": "963457db",
   "metadata": {},
   "outputs": [
    {
     "data": {
      "text/plain": [
       "10"
      ]
     },
     "execution_count": 16,
     "metadata": {},
     "output_type": "execute_result"
    }
   ],
   "source": [
    "#Longitud de una cadena\n",
    "len(cadena_1)"
   ]
  },
  {
   "cell_type": "code",
   "execution_count": null,
   "id": "24ff25b5",
   "metadata": {},
   "outputs": [
    {
     "data": {
      "text/plain": [
       "['Hola ', 'undo']"
      ]
     },
     "execution_count": 22,
     "metadata": {},
     "output_type": "execute_result"
    }
   ],
   "source": [
    "#Quitar letra string\n",
    "cadena_1.split('m')"
   ]
  },
  {
   "cell_type": "code",
   "execution_count": 13,
   "id": "40c932c8",
   "metadata": {},
   "outputs": [
    {
     "data": {
      "text/plain": [
       "'(Hola Mundo),'"
      ]
     },
     "execution_count": 13,
     "metadata": {},
     "output_type": "execute_result"
    }
   ],
   "source": [
    "# Limpiando extremo string \n",
    "cadena_4 ='(Hola Mundo), '\n",
    "cadena_4.strip()"
   ]
  },
  {
   "cell_type": "code",
   "execution_count": null,
   "id": "393860fd",
   "metadata": {},
   "outputs": [
    {
     "data": {
      "text/plain": [
       "'Hola Mundo'"
      ]
     },
     "execution_count": 24,
     "metadata": {},
     "output_type": "execute_result"
    }
   ],
   "source": [
    "cadena_4.strip('(), ')"
   ]
  },
  {
   "cell_type": "code",
   "execution_count": 2,
   "id": "0074dd43",
   "metadata": {},
   "outputs": [
    {
     "data": {
      "text/plain": [
       "'Hi Mundo'"
      ]
     },
     "execution_count": 2,
     "metadata": {},
     "output_type": "execute_result"
    }
   ],
   "source": [
    "#Reemplazar string\n",
    "cadena_5 = 'Hola Mundo'\n",
    "cadena_5.replace('Hola', 'Hi')"
   ]
  },
  {
   "cell_type": "code",
   "execution_count": 3,
   "id": "180ea60f",
   "metadata": {},
   "outputs": [
    {
     "data": {
      "text/plain": [
       "1"
      ]
     },
     "execution_count": 3,
     "metadata": {},
     "output_type": "execute_result"
    }
   ],
   "source": [
    "cadena_5.index('o')"
   ]
  },
  {
   "cell_type": "code",
   "execution_count": 4,
   "id": "05a6b18c",
   "metadata": {},
   "outputs": [
    {
     "data": {
      "text/plain": [
       "9"
      ]
     },
     "execution_count": 4,
     "metadata": {},
     "output_type": "execute_result"
    }
   ],
   "source": [
    "cadena_5.index('o',6)"
   ]
  },
  {
   "cell_type": "code",
   "execution_count": 6,
   "id": "f573d18d",
   "metadata": {},
   "outputs": [
    {
     "data": {
      "text/plain": [
       "'a'"
      ]
     },
     "execution_count": 6,
     "metadata": {},
     "output_type": "execute_result"
    }
   ],
   "source": [
    "cadena_5[3]"
   ]
  },
  {
   "cell_type": "code",
   "execution_count": 7,
   "id": "537bb76a",
   "metadata": {},
   "outputs": [
    {
     "data": {
      "text/plain": [
       "'d'"
      ]
     },
     "execution_count": 7,
     "metadata": {},
     "output_type": "execute_result"
    }
   ],
   "source": [
    "cadena_5[-2]"
   ]
  },
  {
   "cell_type": "code",
   "execution_count": 9,
   "id": "54f6eb9d",
   "metadata": {},
   "outputs": [
    {
     "data": {
      "text/plain": [
       "'la Mu'"
      ]
     },
     "execution_count": 9,
     "metadata": {},
     "output_type": "execute_result"
    }
   ],
   "source": [
    "cadena_5[2:-3]"
   ]
  },
  {
   "cell_type": "code",
   "execution_count": 12,
   "id": "7e5dbaa2",
   "metadata": {},
   "outputs": [
    {
     "data": {
      "text/plain": [
       "'odnuM aloH'"
      ]
     },
     "execution_count": 12,
     "metadata": {},
     "output_type": "execute_result"
    }
   ],
   "source": [
    "cadena_5[::-1]"
   ]
  },
  {
   "cell_type": "code",
   "execution_count": 14,
   "id": "27e1db8b",
   "metadata": {},
   "outputs": [
    {
     "data": {
      "text/plain": [
       "['HOLA', 'MUNDO']"
      ]
     },
     "execution_count": 14,
     "metadata": {},
     "output_type": "execute_result"
    }
   ],
   "source": [
    "#Llamada a una cadena\n",
    "cadena_4.strip('(), ').upper().split()"
   ]
  },
  {
   "cell_type": "code",
   "execution_count": 16,
   "id": "7eaae6ca",
   "metadata": {},
   "outputs": [
    {
     "data": {
      "text/plain": [
       "'Hola Evelin este es el curso de Topicos Especiales en Inteligencia de Negocios'"
      ]
     },
     "execution_count": 16,
     "metadata": {},
     "output_type": "execute_result"
    }
   ],
   "source": [
    "#Python f-string\n",
    "nombre= 'Evelin'\n",
    "curso='Topicos Especiales en Inteligencia de Negocios'\n",
    "f'Hola {nombre} este es el curso de {curso}'"
   ]
  },
  {
   "cell_type": "code",
   "execution_count": 17,
   "id": "73efdc3b",
   "metadata": {},
   "outputs": [],
   "source": [
    "string_1= \"Hola mundo\"\n",
    "string_2= \"5\"\n",
    "string_3= \"cinco\""
   ]
  },
  {
   "cell_type": "code",
   "execution_count": 18,
   "id": "e2133c79",
   "metadata": {},
   "outputs": [
    {
     "data": {
      "text/plain": [
       "False"
      ]
     },
     "execution_count": 18,
     "metadata": {},
     "output_type": "execute_result"
    }
   ],
   "source": [
    "string_1.isdigit()"
   ]
  },
  {
   "cell_type": "code",
   "execution_count": 19,
   "id": "5c33c4c3",
   "metadata": {},
   "outputs": [
    {
     "data": {
      "text/plain": [
       "True"
      ]
     },
     "execution_count": 19,
     "metadata": {},
     "output_type": "execute_result"
    }
   ],
   "source": [
    "string_2.isdigit()"
   ]
  },
  {
   "cell_type": "code",
   "execution_count": 20,
   "id": "e5bfac4b",
   "metadata": {},
   "outputs": [
    {
     "data": {
      "text/plain": [
       "True"
      ]
     },
     "execution_count": 20,
     "metadata": {},
     "output_type": "execute_result"
    }
   ],
   "source": [
    "string_3.isalpha()"
   ]
  },
  {
   "cell_type": "code",
   "execution_count": 21,
   "id": "65501280",
   "metadata": {},
   "outputs": [
    {
     "data": {
      "text/plain": [
       "'abcdefghijklmnopqrstuvwxyzABCDEFGHIJKLMNOPQRSTUVWXYZ'"
      ]
     },
     "execution_count": 21,
     "metadata": {},
     "output_type": "execute_result"
    }
   ],
   "source": [
    "import string\n",
    "string.ascii_letters"
   ]
  },
  {
   "cell_type": "code",
   "execution_count": 22,
   "id": "57c1cbcc",
   "metadata": {},
   "outputs": [
    {
     "data": {
      "text/plain": [
       "'abcdefghijklmnopqrstuvwxyz'"
      ]
     },
     "execution_count": 22,
     "metadata": {},
     "output_type": "execute_result"
    }
   ],
   "source": [
    "string.ascii_lowercase"
   ]
  },
  {
   "cell_type": "code",
   "execution_count": 23,
   "id": "f65e0107",
   "metadata": {},
   "outputs": [
    {
     "data": {
      "text/plain": [
       "'ABCDEFGHIJKLMNOPQRSTUVWXYZ'"
      ]
     },
     "execution_count": 23,
     "metadata": {},
     "output_type": "execute_result"
    }
   ],
   "source": [
    "string.ascii_uppercase"
   ]
  },
  {
   "cell_type": "markdown",
   "id": "4d836861",
   "metadata": {},
   "source": [
    "# 3. Función Print"
   ]
  },
  {
   "cell_type": "code",
   "execution_count": 24,
   "id": "edad66f8",
   "metadata": {},
   "outputs": [
    {
     "name": "stdout",
     "output_type": "stream",
     "text": [
      "Hola mundo\n"
     ]
    }
   ],
   "source": [
    "print(string_1)"
   ]
  },
  {
   "cell_type": "code",
   "execution_count": 25,
   "id": "2f69195d",
   "metadata": {},
   "outputs": [
    {
     "name": "stdout",
     "output_type": "stream",
     "text": [
      "<class 'str'>\n"
     ]
    }
   ],
   "source": [
    "print(type(string_1))"
   ]
  },
  {
   "cell_type": "code",
   "execution_count": 26,
   "id": "e2e74873",
   "metadata": {},
   "outputs": [
    {
     "name": "stdout",
     "output_type": "stream",
     "text": [
      "<class 'int'>\n"
     ]
    }
   ],
   "source": [
    "print(type(5))"
   ]
  },
  {
   "cell_type": "code",
   "execution_count": 28,
   "id": "8cab4d32",
   "metadata": {},
   "outputs": [
    {
     "name": "stdout",
     "output_type": "stream",
     "text": [
      "Mi nombre es: Evelin\n",
      "Mi nombre es: Evelin\n"
     ]
    }
   ],
   "source": [
    "print('Mi nombre es:', nombre)\n",
    "print(f'Mi nombre es: {nombre}')"
   ]
  },
  {
   "cell_type": "code",
   "execution_count": 30,
   "id": "70cf63c1",
   "metadata": {},
   "outputs": [
    {
     "name": "stdout",
     "output_type": "stream",
     "text": [
      "Los datos del curso son: \n",
      "Curso \t\t:Topicos Especiales en Inteligencia de Negocios\n",
      "Ciclo \t\t: Sexto\n",
      "Tipo Curso \t: Electivo\n"
     ]
    }
   ],
   "source": [
    "print (\"Los datos del curso son: \\nCurso \\t\\t:Topicos Especiales en Inteligencia de Negocios\\nCiclo \\t\\t: Sexto\\nTipo Curso \\t: Electivo\")"
   ]
  }
 ],
 "metadata": {
  "kernelspec": {
   "display_name": "myenv",
   "language": "python",
   "name": "python3"
  },
  "language_info": {
   "codemirror_mode": {
    "name": "ipython",
    "version": 3
   },
   "file_extension": ".py",
   "mimetype": "text/x-python",
   "name": "python",
   "nbconvert_exporter": "python",
   "pygments_lexer": "ipython3",
   "version": "3.13.7"
  }
 },
 "nbformat": 4,
 "nbformat_minor": 5
}
